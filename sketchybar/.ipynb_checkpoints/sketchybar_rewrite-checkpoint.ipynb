{
 "cells": [
  {
   "cell_type": "markdown",
   "metadata": {},
   "source": [
    "# Sketchybar Rewrite"
   ]
  },
  {
   "cell_type": "code",
   "execution_count": null,
   "metadata": {},
   "outputs": [],
   "source": [
    "#!/bin/sh\n",
    "\n",
    "# S K E T C H Y  B A R\n",
    "\n",
    "# P A T H S\n",
    "export PATH=\"$HOME/.config/sketchybar/plugins:$PATH\"\n",
    "export PATH=\"$HOME/.cache/wal:$PATH\"\n",
    "\n",
    "# P Y W A L \n",
    "source colors.sh\n",
    "\n",
    "# B A R  C O N F I G\n",
    "sketchybar -m batch --bar \\\n",
    "    position=\"top\" \\\n",
    "    height=26 \\\n",
    "    margin=0 \\\n",
    "    "
   ]
  },
  {
   "cell_type": "code",
   "execution_count": null,
   "metadata": {},
   "outputs": [],
   "source": []
  }
 ],
 "metadata": {
  "interpreter": {
   "hash": "b0fa6594d8f4cbf19f97940f81e996739fb7646882a419484c72d19e05852a7e"
  },
  "kernelspec": {
   "display_name": "Z shell",
   "language": "zsh",
   "name": "zsh"
  },
  "language_info": {
   "codemirror_mode": "shell",
   "file_extension": ".zsh",
   "mimetype": "text/x-zsh",
   "name": "zsh",
   "pygments_lexer": "shell",
   "version": "5.7.1"
  }
 },
 "nbformat": 4,
 "nbformat_minor": 2
}
