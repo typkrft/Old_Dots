{
 "cells": [
  {
   "cell_type": "markdown",
   "metadata": {},
   "source": [
    "# Sketchybar Rewrite"
   ]
  },
  {
   "cell_type": "code",
   "execution_count": null,
   "metadata": {},
   "outputs": [],
   "source": [
    "#!/bin/sh\n",
    "\n",
    "# S K E T C H Y  B A R\n",
    "\n",
    "# P A T H S\n",
    "export PATH=\"$HOME/.config/sketchybar/plugins:$PATH\"\n",
    "export PATH=\"$HOME/.cache/wal:$PATH\"\n",
    "\n",
    "# P Y W A L \n",
    "source colors.sh\n",
    "\n",
    "# B A R  C O N F I G\n",
    "sketchybar -m batch --bar           \\\n",
    "    position=\"top\"                  \\\n",
    "    height=26                       \\\n",
    "    margin=0                        \\\n",
    "    y_offset=0                      \\\n",
    "    corner_radius=0                 \\\n",
    "    border_width=0                  \\\n",
    "    border_color=\"0x00000000\"       \\\n",
    "    blur_radius=5                   \\\n",
    "    padding_left=10                 \\\n",
    "    padding_right=10                \\\n",
    "    bar_color=\"0xFF${color2:1}\"     \\\n",
    "    display=\"all\"                   \\\n",
    "    hidden=\"toggle\"                 \\\n",
    "    topmost=\"off\"                   \\\n",
    "    font_smoothing=\"on\"\n",
    "    \n",
    "    "
   ]
  },
  {
   "cell_type": "code",
   "execution_count": null,
   "metadata": {},
   "outputs": [],
   "source": []
  },
  {
   "cell_type": "code",
   "execution_count": null,
   "metadata": {},
   "outputs": [],
   "source": []
  }
 ],
 "metadata": {
  "interpreter": {
   "hash": "b0fa6594d8f4cbf19f97940f81e996739fb7646882a419484c72d19e05852a7e"
  },
  "kernelspec": {
   "display_name": "Z shell",
   "language": "zsh",
   "name": "python397jvsc74a57bd0b0fa6594d8f4cbf19f97940f81e996739fb7646882a419484c72d19e05852a7e"
  },
  "language_info": {
   "codemirror_mode": "shell",
   "file_extension": ".zsh",
   "mimetype": "text/x-zsh",
   "name": "zsh",
   "pygments_lexer": "shell",
   "version": "5.7.1"
  }
 },
 "nbformat": 4,
 "nbformat_minor": 2
}
